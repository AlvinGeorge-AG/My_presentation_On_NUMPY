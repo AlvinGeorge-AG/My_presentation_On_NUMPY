{
 "cells": [
  {
   "cell_type": "markdown",
   "metadata": {},
   "source": [
    "# Defining a Matrix"
   ]
  },
  {
   "cell_type": "code",
   "execution_count": null,
   "metadata": {},
   "outputs": [],
   "source": [
    "from numpy import array\n",
    "A = array([\n",
    "    [1,2,3],\n",
    "    [5,6,7],\n",
    "    [3,4,5]\n",
    "])\n",
    "print(A)\n",
    "\n"
   ]
  },
  {
   "cell_type": "markdown",
   "metadata": {},
   "source": [
    "Addition"
   ]
  },
  {
   "cell_type": "code",
   "execution_count": null,
   "metadata": {},
   "outputs": [],
   "source": [
    "import numpy as np\n",
    "from numpy import array\n",
    "A=array([[1,2,3],\n",
    "         [5,6,7],\n",
    "         [9,8,7]])\n",
    "\n",
    "B=array([[0,0,0],\n",
    "         [1,1,1],\n",
    "         [10,0,10]])\n",
    "\n",
    "print(         A+B       ) \n",
    "#C=np.add(A,B)print(C)"
   ]
  },
  {
   "cell_type": "markdown",
   "metadata": {},
   "source": [
    "Substraction"
   ]
  },
  {
   "cell_type": "code",
   "execution_count": null,
   "metadata": {},
   "outputs": [],
   "source": [
    "from numpy import array\n",
    "A = array([[1, 2, 3],\n",
    "           [4, 5, 6]])\n",
    "\n",
    "B = array([[1, 2, 2],\n",
    "           [3, 5, 5]])\n",
    "\n",
    "print(    A-B  )"
   ]
  },
  {
   "cell_type": "code",
   "execution_count": null,
   "metadata": {},
   "outputs": [],
   "source": [
    "import numpy as np\n",
    "from numpy import array\n",
    "A = array([[1, 2, 3],\n",
    "           [4, 5, 6]])\n",
    "\n",
    "B = array([[1, 2, 2],\n",
    "           [3, 5, 5]])\n",
    "\n",
    "print(np.subtract(A,B))"
   ]
  },
  {
   "cell_type": "markdown",
   "metadata": {},
   "source": [
    "Matrix Multiplication"
   ]
  },
  {
   "cell_type": "code",
   "execution_count": null,
   "metadata": {},
   "outputs": [],
   "source": [
    "from numpy import array\n",
    "import numpy as np\n",
    "A=array([[5,10,15],\n",
    "          [1,1,1]  ])  # order is (2,3)\n",
    "\n",
    "B=array([[2,1,1],\n",
    "         [0,3,9],\n",
    "         [0,0,1]]) # order is (3,3)\n",
    "\n",
    "print(A.dot(B))# new matrix with order (2,3)"
   ]
  },
  {
   "cell_type": "code",
   "execution_count": null,
   "metadata": {},
   "outputs": [],
   "source": [
    "from numpy import array\n",
    "import numpy as np\n",
    "A=array([[5,10,15],\n",
    "          [1,1,1]  ])  # order is (2,3)\n",
    "\n",
    "B=array([[2,1,1],\n",
    "         [0,3,9],\n",
    "         [0,0,1]]) # order is (3,3)\n",
    "\n",
    "print(  A@B   )"
   ]
  },
  {
   "cell_type": "markdown",
   "metadata": {},
   "source": [
    "Matrix Division"
   ]
  },
  {
   "cell_type": "code",
   "execution_count": null,
   "metadata": {},
   "outputs": [],
   "source": [
    "import numpy as np\n",
    "from numpy import array\n",
    "A = array([[3, 4, 3],\n",
    "           [4, 5, 6]])\n",
    "\n",
    "B = array([[1, 2, 3],\n",
    "           [4, 5, 2]])\n",
    "print(   A/B  )\n",
    "print()\n",
    "print(np.divide(A,B))"
   ]
  },
  {
   "cell_type": "markdown",
   "metadata": {},
   "source": [
    "Element-Wise Multiplication (matrix Hadamard product)"
   ]
  },
  {
   "cell_type": "code",
   "execution_count": null,
   "metadata": {},
   "outputs": [],
   "source": [
    "import numpy as np\n",
    "from numpy import array\n",
    "A = array([[1, 2, 3],\n",
    "           [4, 5, 6]])\n",
    "\n",
    "B = array([[1, 2, 3],\n",
    "           [4, 5, 6]])\n",
    "\n",
    "#print(A); print(B)\n",
    "print( A*B )"
   ]
  },
  {
   "cell_type": "markdown",
   "metadata": {},
   "source": [
    "Matrix-Scalar Multiplication"
   ]
  },
  {
   "cell_type": "code",
   "execution_count": null,
   "metadata": {},
   "outputs": [],
   "source": [
    "from numpy import array\n",
    "# define matrix\n",
    "A = array([ [1 ,2],\n",
    "            [3 ,4], \n",
    "            [5 ,6] ])\n",
    "b = 3\n",
    "# multiply\n",
    "C = A * b\n",
    "print(C)\n",
    "#print(A.dot(b))"
   ]
  },
  {
   "cell_type": "markdown",
   "metadata": {},
   "source": [
    "Matrix-Vector Multiplication"
   ]
  },
  {
   "cell_type": "code",
   "execution_count": null,
   "metadata": {},
   "outputs": [],
   "source": [
    "from numpy import array\n",
    "import numpy\n",
    "A = array([[1, 7],\n",
    "           [3, 4],\n",
    "           [5, 6]])\n",
    "B = array([2, 1]) # define vector\n",
    "print(\"Vector :\",B)\n",
    "C = A.dot(B)\n",
    "print(\"Vector multiplication gives :\",C)\n",
    "#print(\"Normal Multiplication gives :\\n\", numpy.multiply(A,B))"
   ]
  },
  {
   "cell_type": "markdown",
   "metadata": {},
   "source": []
  },
  {
   "cell_type": "markdown",
   "metadata": {},
   "source": []
  },
  {
   "cell_type": "markdown",
   "metadata": {},
   "source": [
    "# Why We Use Numpy Arrays/Matrices"
   ]
  },
  {
   "cell_type": "code",
   "execution_count": null,
   "metadata": {},
   "outputs": [],
   "source": [
    "A=[1,2,3]\n",
    "B=[4,5,6]\n",
    "print(A*B)"
   ]
  },
  {
   "cell_type": "code",
   "execution_count": null,
   "metadata": {},
   "outputs": [],
   "source": [
    "from numpy import array\n",
    "a=array([[1,2,3]])\n",
    "b=array([[2,3,4]])\n",
    "print(a*b)"
   ]
  },
  {
   "cell_type": "markdown",
   "metadata": {},
   "source": []
  },
  {
   "cell_type": "markdown",
   "metadata": {},
   "source": []
  },
  {
   "cell_type": "markdown",
   "metadata": {},
   "source": [
    "# Types of Matrix "
   ]
  },
  {
   "cell_type": "markdown",
   "metadata": {},
   "source": [
    "Triangular Matrix"
   ]
  },
  {
   "cell_type": "code",
   "execution_count": null,
   "metadata": {},
   "outputs": [],
   "source": [
    "from numpy import array\n",
    "from numpy import tril\n",
    "from numpy import triu\n",
    "M = array([[1, 2, 3],\n",
    "           [1, 2, 3],\n",
    "           [1, 2, 3]])\n",
    "# lower triangular matrix\n",
    "lower = tril(M)\n",
    "print(lower)\n",
    "# upper triangular matrix \n",
    "print()\n",
    "upper = triu(M)\n",
    "print(upper)"
   ]
  },
  {
   "cell_type": "markdown",
   "metadata": {},
   "source": [
    "Diagonal Matrix"
   ]
  },
  {
   "cell_type": "code",
   "execution_count": null,
   "metadata": {},
   "outputs": [],
   "source": [
    "from numpy import array\n",
    "from numpy import diag\n",
    "A = array([[1, 6, 3],\n",
    "           [3, 2, 7],\n",
    "           [9, 8, 3]])\n",
    "# extract diagonal vector\n",
    "d = diag(A) #[1 2 3]\n",
    "print('Diagonal elements as vector:',d)\n",
    "# create diagonal matrix from vector\n",
    "D = diag(d)\n",
    "print(D)"
   ]
  },
  {
   "cell_type": "markdown",
   "metadata": {},
   "source": [
    "Identity Matrix"
   ]
  },
  {
   "cell_type": "code",
   "execution_count": null,
   "metadata": {},
   "outputs": [],
   "source": [
    "from numpy import array\n",
    "from numpy import *\n",
    "print(identity(3))# or eye(3)\n",
    "print() #new line\n",
    "B=(3,3) # let B is a 3 by 3 matrix\n",
    "print(ones(B))\n",
    "print() #new line\n",
    "\n",
    "A=array([\n",
    "    [1,2,3],\n",
    "    [4,5,6],\n",
    "    [7,8,9]\n",
    "])\n",
    "print(ones_like(A))\n",
    "print() #new line\n",
    "print(zeros_like(A))"
   ]
  },
  {
   "cell_type": "markdown",
   "metadata": {},
   "source": [
    "# MATRIX OPERATIONS "
   ]
  },
  {
   "cell_type": "markdown",
   "metadata": {},
   "source": [
    "    DETERMINANT"
   ]
  },
  {
   "cell_type": "code",
   "execution_count": null,
   "metadata": {},
   "outputs": [],
   "source": [
    "from numpy import array\n",
    "from numpy.linalg import det #linalg module\n",
    "# define matrix\n",
    "A = array([[1, 4, 3],\n",
    "           [4, 9, 6],\n",
    "           [7, 8, 9]])\n",
    "# calculate determinant\n",
    "B = det(A)\n",
    "print(B)"
   ]
  },
  {
   "cell_type": "markdown",
   "metadata": {},
   "source": [
    "    INVERSE"
   ]
  },
  {
   "cell_type": "code",
   "execution_count": null,
   "metadata": {},
   "outputs": [],
   "source": [
    "from numpy import array\n",
    "from numpy.linalg import inv\n",
    "A = array([[1.0, 2.0],\n",
    "           [3.0, 4.0]])\n",
    "# invert matrix\n",
    "B = inv(A)\n",
    "print(B)"
   ]
  },
  {
   "cell_type": "markdown",
   "metadata": {},
   "source": [
    "     TRANSPOSE"
   ]
  },
  {
   "cell_type": "code",
   "execution_count": null,
   "metadata": {},
   "outputs": [],
   "source": [
    "from numpy import array\n",
    "import numpy as np\n",
    "# define matrix\n",
    "A = array([[1, 2],\n",
    "           [3, 4],\n",
    "           [5, 6]])\n",
    "# calculate transpose\n",
    "C = A.T # or np.transpose(A)\n",
    "print(C)"
   ]
  },
  {
   "cell_type": "markdown",
   "metadata": {},
   "source": [
    "     TRACE"
   ]
  },
  {
   "cell_type": "code",
   "execution_count": null,
   "metadata": {},
   "outputs": [],
   "source": [
    "from numpy import array\n",
    "from numpy import trace\n",
    "A = array([[1, 2, 3],\n",
    "           [4, 5, 6],\n",
    "           [7, 8, 9]])\n",
    "# calculate trace\n",
    "B = trace(A)\n",
    "print(B)"
   ]
  },
  {
   "cell_type": "markdown",
   "metadata": {},
   "source": [
    "    RANK"
   ]
  },
  {
   "cell_type": "code",
   "execution_count": null,
   "metadata": {},
   "outputs": [],
   "source": [
    "''' So in order to find the rank of a matrix you need to convert that matrix into its corresponding\n",
    "Echelon Form ,And Rank is defined as the number of non zero rows in the echelon form of the Matrix.\n",
    " Let Matix A= [[1,2,3],\n",
    "               [4,5,6],\n",
    "               [7,8,9]]\n",
    "      and let its corresponding Echelon be [[1,2,4],\n",
    "                                            [0,1,7],\n",
    "                                            [0,0,0]] \n",
    "      In this Echelon form 1st and 2nd Rows are NON ZERO so the Rank of the MATRIX A is 2.                                                    '''"
   ]
  },
  {
   "cell_type": "code",
   "execution_count": null,
   "metadata": {},
   "outputs": [],
   "source": [
    "from numpy import array\n",
    "from numpy.linalg import matrix_rank\n",
    "A=array([\n",
    "    [1,2,3],\n",
    "    [4,5,6],\n",
    "    [7,8,9]\n",
    "])\n",
    "print(matrix_rank(A))"
   ]
  },
  {
   "cell_type": "markdown",
   "metadata": {},
   "source": []
  },
  {
   "cell_type": "markdown",
   "metadata": {},
   "source": []
  },
  {
   "cell_type": "markdown",
   "metadata": {},
   "source": []
  },
  {
   "cell_type": "markdown",
   "metadata": {},
   "source": []
  },
  {
   "cell_type": "markdown",
   "metadata": {},
   "source": []
  },
  {
   "cell_type": "markdown",
   "metadata": {},
   "source": []
  },
  {
   "cell_type": "markdown",
   "metadata": {},
   "source": []
  },
  {
   "cell_type": "markdown",
   "metadata": {},
   "source": []
  },
  {
   "cell_type": "markdown",
   "metadata": {},
   "source": []
  },
  {
   "cell_type": "markdown",
   "metadata": {},
   "source": []
  },
  {
   "cell_type": "markdown",
   "metadata": {},
   "source": []
  },
  {
   "cell_type": "markdown",
   "metadata": {},
   "source": [
    " #                                                THANK YOU"
   ]
  },
  {
   "cell_type": "code",
   "execution_count": null,
   "metadata": {},
   "outputs": [],
   "source": [
    "\n",
    "\n",
    "\n",
    "\n",
    "\n",
    "\n",
    "\n",
    "\n",
    "\n",
    "\n",
    "\n",
    "\n",
    "\n",
    "\n",
    "\n",
    "\n",
    "\n",
    "\n",
    "\n",
    "\n",
    "\n",
    "\n"
   ]
  },
  {
   "cell_type": "code",
   "execution_count": null,
   "metadata": {},
   "outputs": [],
   "source": [
    "from numpy import array\n",
    "from numpy.linalg import inv\n",
    "# define orthogonal matrix\n",
    "Q = array([ [1, 0],\n",
    "            [0, -1]])\n",
    "print('orthogonal matrix :\\n',Q)\n",
    "# inverse equivalence\n",
    "V = inv(Q)\n",
    "print('Transpose of orthogonal matrix :\\n',Q.T)\n",
    "print('Inverse of orthogonal matrix :\\n',V)\n",
    "# identity equivalence\n",
    "print('Since Transpose of Q = Inverse of Q')\n",
    "print(' Q*Inverse of Q =Identity Matrix\\n similarly Q*Transpose of Q=Identity Matrix')\n",
    "I = Q.dot(Q.T)\n",
    "print(I)"
   ]
  }
 ],
 "metadata": {
  "kernelspec": {
   "display_name": "myenv",
   "language": "python",
   "name": "python3"
  },
  "language_info": {
   "codemirror_mode": {
    "name": "ipython",
    "version": 3
   },
   "file_extension": ".py",
   "mimetype": "text/x-python",
   "name": "python",
   "nbconvert_exporter": "python",
   "pygments_lexer": "ipython3",
   "version": "3.12.6"
  }
 },
 "nbformat": 4,
 "nbformat_minor": 2
}
